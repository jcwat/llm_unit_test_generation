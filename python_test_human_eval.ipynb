{
 "cells": [
  {
   "cell_type": "markdown",
   "id": "7ffd3a00",
   "metadata": {},
   "source": [
    "# initial tests"
   ]
  },
  {
   "cell_type": "code",
   "execution_count": 14,
   "id": "bce0da9d",
   "metadata": {
    "collapsed": true
   },
   "outputs": [
    {
     "name": "stdout",
     "output_type": "stream",
     "text": [
      "Requirement already satisfied: python-dotenv in /Users/watsonjo/.pyenv/versions/3.7.16/lib/python3.7/site-packages (0.21.1)\n",
      "Note: you may need to restart the kernel to use updated packages.\n"
     ]
    }
   ],
   "source": [
    "pip install python-dotenv"
   ]
  },
  {
   "cell_type": "code",
   "execution_count": 15,
   "id": "f06873fd",
   "metadata": {
    "collapsed": true
   },
   "outputs": [
    {
     "name": "stdout",
     "output_type": "stream",
     "text": [
      "Collecting pytest\n",
      "  Downloading pytest-7.4.4-py3-none-any.whl.metadata (7.9 kB)\n",
      "Collecting iniconfig (from pytest)\n",
      "  Downloading iniconfig-2.0.0-py3-none-any.whl.metadata (2.6 kB)\n",
      "Requirement already satisfied: packaging in /Users/watsonjo/.pyenv/versions/3.7.16/lib/python3.7/site-packages (from pytest) (24.0)\n",
      "Collecting pluggy<2.0,>=0.12 (from pytest)\n",
      "  Downloading pluggy-1.2.0-py3-none-any.whl.metadata (4.4 kB)\n",
      "Requirement already satisfied: exceptiongroup>=1.0.0rc8 in /Users/watsonjo/.pyenv/versions/3.7.16/lib/python3.7/site-packages (from pytest) (1.2.0)\n",
      "Collecting tomli>=1.0.0 (from pytest)\n",
      "  Downloading tomli-2.0.1-py3-none-any.whl.metadata (8.9 kB)\n",
      "Requirement already satisfied: importlib-metadata>=0.12 in /Users/watsonjo/.pyenv/versions/3.7.16/lib/python3.7/site-packages (from pytest) (6.7.0)\n",
      "Requirement already satisfied: zipp>=0.5 in /Users/watsonjo/.pyenv/versions/3.7.16/lib/python3.7/site-packages (from importlib-metadata>=0.12->pytest) (3.15.0)\n",
      "Requirement already satisfied: typing-extensions>=3.6.4 in /Users/watsonjo/.pyenv/versions/3.7.16/lib/python3.7/site-packages (from importlib-metadata>=0.12->pytest) (4.6.3)\n",
      "Downloading pytest-7.4.4-py3-none-any.whl (325 kB)\n",
      "\u001b[2K   \u001b[90m━━━━━━━━━━━━━━━━━━━━━━━━━━━━━━━━━━━━━━━━\u001b[0m \u001b[32m325.3/325.3 kB\u001b[0m \u001b[31m3.1 MB/s\u001b[0m eta \u001b[36m0:00:00\u001b[0m00:01\u001b[0m00:01\u001b[0m\n",
      "\u001b[?25hDownloading pluggy-1.2.0-py3-none-any.whl (17 kB)\n",
      "Downloading tomli-2.0.1-py3-none-any.whl (12 kB)\n",
      "Downloading iniconfig-2.0.0-py3-none-any.whl (5.9 kB)\n",
      "Installing collected packages: tomli, iniconfig, pluggy, pytest\n",
      "Successfully installed iniconfig-2.0.0 pluggy-1.2.0 pytest-7.4.4 tomli-2.0.1\n",
      "Note: you may need to restart the kernel to use updated packages.\n"
     ]
    }
   ],
   "source": [
    "pip install pytest"
   ]
  },
  {
   "cell_type": "code",
   "execution_count": 116,
   "id": "2726ad21",
   "metadata": {},
   "outputs": [],
   "source": [
    "from dotenv import load_dotenv\n",
    "import os\n",
    "import requests\n",
    "\n",
    "load_dotenv()\n",
    "\n",
    "API_KEY=os.getenv(\"API_KEY\")\n",
    "MODEL=\"gpt-3.5-turbo-0125\"\n",
    "\n",
    "def listModels():\n",
    "    url = \"https://api.openai.com/v1/models\"\n",
    "    headers = {\n",
    "        \"Content-Type\": \"application/json\",\n",
    "        \"Authorization\": \"Bearer \" + API_KEY,\n",
    "    }\n",
    "    response = requests.get(url, headers=headers)\n",
    "    print(response.json())\n",
    "def chatGPT(text, additional_context):\n",
    "    url = \"https://api.openai.com/v1/chat/completions\"\n",
    "    headers = {\n",
    "        \"Content-Type\": \"application/json\",\n",
    "        \"Authorization\": \"Bearer \" + API_KEY,\n",
    "    }\n",
    "    data = {\n",
    "        \"model\": MODEL,\n",
    "        \"messages\": [\n",
    "          {\n",
    "            \"role\": \"system\",\n",
    "            \"content\": \"You are a tool used to automatically generate source code for unit tests. Source code for a function that is to be tested will be provided and you should generate an appropriate unit test that can be ran to ensure the code is correct. Code input will be in Python and you should respond with a Python code block containing the unit test as output. Use Pytest. Do not start output with \\\"```python\\\". Don't use Parametrize. For numeric equality assertions, allow a tolerance of 1e^-6. Some additional context about the method under test is \\\"\"+additional_context+\"\\\"\"\n",
    "          },\n",
    "          {\n",
    "            \"role\": \"user\",\n",
    "            \"content\": \"\"\"\n",
    "              def add(a, b):\n",
    "                return a + b\"\n",
    "              \"\"\"\n",
    "          },\n",
    "          {\n",
    "            \"role\": \"assistant\",\n",
    "            \"content\": \"import pytest\\n\\ndef add(a, b):\\n    return a + b\\n\\ndef test_add():\\n    assert add(3, 5) == 8\\n    assert add(-3, -5) == -8\\n    assert add(3, -5) == -2\\ntest_add()\"\n",
    "          },\n",
    "          {\n",
    "            \"role\": \"user\",\n",
    "            \"content\": text\n",
    "          },\n",
    "        ],\n",
    "        \"max_tokens\": 500,\n",
    "        \"temperature\": 1.0,\n",
    "    }\n",
    "    response = requests.post(url, headers=headers, json=data)\n",
    "#     print(response.json())\n",
    "    output = response.json()['choices'][0]['message']['content']\n",
    "\n",
    "    return output\n",
    "\n"
   ]
  },
  {
   "cell_type": "code",
   "execution_count": 127,
   "id": "c7dcf961",
   "metadata": {},
   "outputs": [
    {
     "name": "stdout",
     "output_type": "stream",
     "text": [
      "['HumanEval/0, passes', 'HumanEval/1, passes', 'HumanEval/2, passes', 'HumanEval/3, passes', 'HumanEval/4, passes']\n"
     ]
    }
   ],
   "source": [
    "import json\n",
    "SAMPLES_TO_RUN = 5\n",
    "out = []\n",
    "count = 0\n",
    "with open('HumanEval.jsonl') as file:\n",
    "    for line in file:\n",
    "        count = count + 1\n",
    "        d = json.loads(line)\n",
    "        d['soln'] = chatGPT(d['canonical_solution'], d[\"prompt\"])\n",
    "\n",
    "        check_program = (\n",
    "                d[\"soln\"] + \"\\n\"\n",
    "            )\n",
    "        try:\n",
    "            exec(check_program)\n",
    "            out.append(f\"{d['task_id']}, passes\")\n",
    "        except AssertionError as ae:\n",
    "            print(\"Failing Test\\n\\n\")\n",
    "            print(check_program)\n",
    "            out.append(f\"{d['task_id']}, failed assertion\")\n",
    "        except Exception as e:\n",
    "            out.append(f\"{d['task_id']}, failed to run\")\n",
    "            print(check_program)\n",
    "        \n",
    "        if count > SAMPLES_TO_RUN-1:\n",
    "            break\n",
    "print(out)"
   ]
  },
  {
   "cell_type": "code",
   "execution_count": 126,
   "id": "883fb710",
   "metadata": {},
   "outputs": [
    {
     "name": "stdout",
     "output_type": "stream",
     "text": [
      "[1]\n"
     ]
    }
   ],
   "source": [
    "def parse_paren_group(s):\n",
    "    depth = 0\n",
    "    max_depth = 0\n",
    "    for c in s:\n",
    "        if c == '(':\n",
    "            depth += 1\n",
    "            max_depth = max(depth, max_depth)\n",
    "        else:\n",
    "            depth -= 1\n",
    "\n",
    "    return max_depth\n",
    "\n",
    "def parse_nested_parens(paren_string):\n",
    "    return [parse_paren_group(x) for x in paren_string.split(' ') if x]\n",
    "\n",
    "def test_parse_nested_parens():\n",
    "    assert parse_nested_parens('(()()) ((())) () ((())()())') == [2, 3, 1, 3]\n",
    "    assert parse_nested_parens(')(())') == [1]\n",
    "    assert parse_nested_parens('') == []\n",
    "    assert parse_nested_parens('(()) (())') == [2, 2]\n",
    "    assert parse_nested_parens('(((())))') == [4]\n",
    "    assert parse_nested_parens('(()) ()(())') == [2, 2]\n",
    "test_parse_nested_parens()\n"
   ]
  },
  {
   "cell_type": "code",
   "execution_count": null,
   "id": "27af177a",
   "metadata": {},
   "outputs": [],
   "source": []
  }
 ],
 "metadata": {
  "kernelspec": {
   "display_name": "Python 3 (ipykernel)",
   "language": "python",
   "name": "python3"
  },
  "language_info": {
   "codemirror_mode": {
    "name": "ipython",
    "version": 3
   },
   "file_extension": ".py",
   "mimetype": "text/x-python",
   "name": "python",
   "nbconvert_exporter": "python",
   "pygments_lexer": "ipython3",
   "version": "3.7.16"
  }
 },
 "nbformat": 4,
 "nbformat_minor": 5
}
