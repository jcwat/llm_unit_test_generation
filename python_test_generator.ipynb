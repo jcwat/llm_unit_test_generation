{
 "cells": [
  {
   "cell_type": "markdown",
   "id": "7ffd3a00",
   "metadata": {},
   "source": [
    "# initial tests"
   ]
  },
  {
   "cell_type": "code",
   "execution_count": 3,
   "id": "bce0da9d",
   "metadata": {},
   "outputs": [
    {
     "name": "stdout",
     "output_type": "stream",
     "text": [
      "Collecting python-dotenv\n",
      "  Downloading python_dotenv-1.0.1-py3-none-any.whl (19 kB)\n",
      "Installing collected packages: python-dotenv\n",
      "Successfully installed python-dotenv-1.0.1\n",
      "Note: you may need to restart the kernel to use updated packages.\n"
     ]
    }
   ],
   "source": [
    "pip install python-dotenv"
   ]
  },
  {
   "cell_type": "code",
   "execution_count": 20,
   "id": "2726ad21",
   "metadata": {},
   "outputs": [
    {
     "name": "stdout",
     "output_type": "stream",
     "text": [
      "{'id': 'chatcmpl-99IZn2VaQBT09XJFg5Ojl1kFBFKLo', 'object': 'chat.completion', 'created': 1712003387, 'model': 'gpt-3.5-turbo-0125', 'choices': [{'index': 0, 'message': {'role': 'assistant', 'content': \"import unittest\\n\\ndef subtract(a, b):\\n    return a - b\\n\\nclass TestSubtractFunction(unittest.TestCase):\\n\\n    def test_subtract_positive_numbers(self):\\n        self.assertEqual(subtract(5, 3), 2)\\n\\n    def test_subtract_negative_numbers(self):\\n        self.assertEqual(subtract(-5, -3), -2)\\n\\n    def test_subtract_mixed_numbers(self):\\n        self.assertEqual(subtract(5, -3), 8)\\n\\nif __name__ == '__main__':\\n    unittest.main()\"}, 'logprobs': None, 'finish_reason': 'stop'}], 'usage': {'prompt_tokens': 215, 'completion_tokens': 105, 'total_tokens': 320}, 'system_fingerprint': 'fp_3bc1b5746c'}\n",
      "import unittest\n",
      "\n",
      "def subtract(a, b):\n",
      "    return a - b\n",
      "\n",
      "class TestSubtractFunction(unittest.TestCase):\n",
      "\n",
      "    def test_subtract_positive_numbers(self):\n",
      "        self.assertEqual(subtract(5, 3), 2)\n",
      "\n",
      "    def test_subtract_negative_numbers(self):\n",
      "        self.assertEqual(subtract(-5, -3), -2)\n",
      "\n",
      "    def test_subtract_mixed_numbers(self):\n",
      "        self.assertEqual(subtract(5, -3), 8)\n",
      "\n",
      "if __name__ == '__main__':\n",
      "    unittest.main()\n"
     ]
    }
   ],
   "source": [
    "from dotenv import load_dotenv\n",
    "import os\n",
    "import requests\n",
    "\n",
    "load_dotenv()\n",
    "\n",
    "API_KEY=os.getenv(\"API_KEY\")\n",
    "MODEL=\"gpt-3.5-turbo-0125\"\n",
    "\n",
    "def listModels():\n",
    "    url = \"https://api.openai.com/v1/models\"\n",
    "    headers = {\n",
    "        \"Content-Type\": \"application/json\",\n",
    "        \"Authorization\": \"Bearer \" + API_KEY,\n",
    "    }\n",
    "    response = requests.get(url, headers=headers)\n",
    "    print(response.json())\n",
    "def chatGPT(text):\n",
    "    url = \"https://api.openai.com/v1/chat/completions\"\n",
    "    headers = {\n",
    "        \"Content-Type\": \"application/json\",\n",
    "        \"Authorization\": \"Bearer \" + API_KEY,\n",
    "    }\n",
    "    data = {\n",
    "        \"model\": MODEL,\n",
    "        \"messages\": [\n",
    "          {\n",
    "            \"role\": \"system\",\n",
    "            \"content\": \"You are a tool used to automatically generate source code for unit tests. Source code for a function that is to be tested will be provided and you should generate an appropriate unit test that can be ran to ensure the code is correct. Code input will be in Python and you should respond with a Python code block containing the unit test as output.\"\n",
    "          },\n",
    "          {\n",
    "            \"role\": \"user\",\n",
    "            \"content\": \"\"\"\n",
    "              def add(a, b):\n",
    "                return a + b\"\n",
    "              \"\"\"\n",
    "          },\n",
    "          {\n",
    "            \"role\": \"assistant\",\n",
    "            \"content\": \"import unittest\\n\\ndef add(a, b):\\n    return a + b\\n\\nclass TestAddFunction(unittest.TestCase):\\n\\n    def test_add_positive_numbers(self):\\n        self.assertEqual(add(3, 5), 8)\\n\\n    def test_add_negative_numbers(self):\\n        self.assertEqual(add(-3, -5), -8)\\n\\n    def test_add_mixed_numbers(self):\\n        self.assertEqual(add(3, -5), -2)\\n\\nif __name__ == '__main__':\\n    unittest.main()\"\n",
    "          },\n",
    "          {\n",
    "            \"role\": \"user\",\n",
    "            \"content\": text\n",
    "          },\n",
    "        ],\n",
    "        \"max_tokens\": 500,\n",
    "        \"temperature\": 1.0,\n",
    "    }\n",
    "    response = requests.post(url, headers=headers, json=data)\n",
    "    print(response.json())\n",
    "    output = response.json()['choices'][0]['message']['content']\n",
    "\n",
    "    return output\n",
    "\n",
    "\n",
    "test = chatGPT(\"\"\"\n",
    "        def subtract(a, b):\n",
    "            return a - b\n",
    "        \"\"\")\n",
    "\n",
    "print(test.replace(\"\\n\", \"\"\"\n",
    "\"\"\"))\n",
    "\n",
    "# listModels()\n"
   ]
  },
  {
   "cell_type": "code",
   "execution_count": null,
   "id": "c7dcf961",
   "metadata": {},
   "outputs": [],
   "source": []
  },
  {
   "cell_type": "code",
   "execution_count": null,
   "id": "883fb710",
   "metadata": {},
   "outputs": [],
   "source": []
  }
 ],
 "metadata": {
  "kernelspec": {
   "display_name": "Python 3 (ipykernel)",
   "language": "python",
   "name": "python3"
  },
  "language_info": {
   "codemirror_mode": {
    "name": "ipython",
    "version": 3
   },
   "file_extension": ".py",
   "mimetype": "text/x-python",
   "name": "python",
   "nbconvert_exporter": "python",
   "pygments_lexer": "ipython3",
   "version": "3.7.16"
  }
 },
 "nbformat": 4,
 "nbformat_minor": 5
}
